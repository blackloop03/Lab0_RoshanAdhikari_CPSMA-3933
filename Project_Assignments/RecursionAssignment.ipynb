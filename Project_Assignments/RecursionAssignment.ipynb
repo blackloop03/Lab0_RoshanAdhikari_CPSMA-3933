{
  "nbformat": 4,
  "nbformat_minor": 0,
  "metadata": {
    "colab": {
      "provenance": [],
      "include_colab_link": true
    },
    "kernelspec": {
      "name": "python3",
      "display_name": "Python 3"
    },
    "language_info": {
      "name": "python"
    }
  },
  "cells": [
    {
      "cell_type": "markdown",
      "metadata": {
        "id": "view-in-github",
        "colab_type": "text"
      },
      "source": [
        "<a href=\"https://colab.research.google.com/github/blackloop03/Lab0_RoshanAdhikari_CPSMA-3933/blob/main/Project_Assignments/RecursionAssignment.ipynb\" target=\"_parent\"><img src=\"https://colab.research.google.com/assets/colab-badge.svg\" alt=\"Open In Colab\"/></a>"
      ]
    },
    {
      "cell_type": "markdown",
      "source": [
        "# Recursion Assignment\n",
        "\n",
        "Solve the recursion\n",
        "$$\n",
        "f(n) = 7f(n-1)-10f(n-2)\\quad f(0) = 1\\quad f(1)=3\n",
        "$$\n",
        "\n",
        "1. Using mathematical method taught in class to get analytic equation.  Type up details and program function\n",
        "2. Using dynamic programming.\n",
        "3. Using dynamic programming and memoization.\n",
        "4. Compare the results of each function.  Discuss the advantages and disadvantages of each method.  Consider difficulty of solving and the time it would take to get the 1000 entry of the sequence in each of the three solutions."
      ],
      "metadata": {
        "id": "gxO997rzUWoK"
      }
    },
    {
      "cell_type": "markdown",
      "source": [
        "## Using Mathematical Method taught in class\n",
        "**Step 1: Write the given recurrence relation**\n",
        "\n",
        "We are given:  \n",
        "*f(n) = 7 f(n − 1) − 10 f(n − 2)*\n",
        "with initial conditions *f(0) = 1, f(1) = 3.*     \n",
        "\n",
        "**Step 2: Form the characteristic equation**   \n",
        "For a recurrence of the form   \n",
        "*f(n) = a f(n − 1) + b f(n − 2)*,   \n",
        "the characteristic equation is   \n",
        "*r² − a r − b = 0*.   \n",
        "\n",
        "Substituting a = 7 and b = −10 gives   \n",
        "r² − 7r + 10 = 0.   \n",
        "\n",
        "\n",
        "**Step 3: Solve the characteristic equation**\n",
        "\n",
        "Factorize:   \n",
        "(r − 5)(r − 2) = 0    \n",
        "⇒ r₁ = 5, r₂ = 2.      \n",
        "\n",
        "\n",
        "**Step 4: Write the general solution**\n",
        "\n",
        "Since the two roots are distinct,   \n",
        "*f(n) = A (5ⁿ) + B (2ⁿ)*\n",
        "\n",
        "\n",
        "**Step 5: Use initial conditions to find A and B**\n",
        "\n",
        "*For n = 0:   \n",
        "A + B = 1   \n",
        "(Equation 1)*   \n",
        "\n",
        "*For n = 1:   \n",
        "5A + 2B = 3   \n",
        "(Equation 2)*   \n",
        "    \n",
        "Solve equations 1 and 2:   \n",
        "\n",
        "From (1): B = 1 − A    \n",
        "Substitute in (2):    \n",
        "*5A + 2(1 − A) = 3   \n",
        "⇒ 5A + 2 − 2A = 3   \n",
        "⇒ 3A = 1   \n",
        "⇒ A = 1/3, B = 2/3*.\n",
        "\n",
        "\n",
        "**Step 6: Substitute A and B into the formula**\n",
        "\n",
        "*f(n) = (1/3)(5ⁿ) + (2/3)(2ⁿ)*   \n",
        "\n",
        "or equivalently,    \n",
        "*f(n) = (5ⁿ + 2 · 2ⁿ) / 3*    \n",
        "\n",
        "***This is the analytic (closed-form) equation.***   "
      ],
      "metadata": {
        "id": "ejRssXCwMhBG"
      }
    },
    {
      "cell_type": "code",
      "execution_count": 1,
      "metadata": {
        "id": "mxuJ44JFUVog",
        "outputId": "89b17295-b33c-43fa-b8d3-d7a150ccd44c",
        "colab": {
          "base_uri": "https://localhost:8080/"
        }
      },
      "outputs": [
        {
          "output_type": "stream",
          "name": "stdout",
          "text": [
            "f(0) = 1\n",
            "f(1) = 3\n",
            "f(2) = 11\n",
            "f(3) = 47\n",
            "f(4) = 219\n",
            "f(5) = 1063\n",
            "f(6) = 5251\n",
            "f(7) = 26127\n",
            "f(8) = 130379\n",
            "f(9) = 651383\n"
          ]
        }
      ],
      "source": [
        "### Program Function\n",
        "def f_closed(n):\n",
        "    \"\"\"\n",
        "    Analytic solution for f(n) = 7f(n-1) - 10f(n-2)\n",
        "    with f(0)=1, f(1)=3.\n",
        "    \"\"\"\n",
        "    return (pow(5, n) + 2 * pow(2, n)) // 3\n",
        "\n",
        "# Example:\n",
        "for i in range(10):\n",
        "    print(f\"f({i}) = {f_closed(i)}\")\n"
      ]
    },
    {
      "cell_type": "markdown",
      "source": [
        "### Explanation\n",
        "\n",
        "This mathematical method gives us a direct formula to find any term in the sequence without using loops or recursion. That means we can simply plug in any value of n and get the answer right away. It’s very fast and doesn’t require much memory because it only involves a few power and multiplication operations. Even for a large number like n = 1000, Python can handle it easily since it supports very large integers without losing accuracy. So, this approach is the most efficient and reliable way to calculate the values of f(n).\n",
        "\n",
        "\n",
        "\n",
        "\n",
        "\n",
        "\n"
      ],
      "metadata": {
        "id": "ovsu6jKLSQZp"
      }
    },
    {
      "cell_type": "code",
      "source": [
        "### Using Dynamic Programmming (Buttom - Up Approach)\n",
        "\n",
        "def f_dp(n):\n",
        "    \"\"\"\n",
        "    Dynamic Programming approach for f(n) = 7f(n-1) - 10f(n-2)\n",
        "    with f(0)=1 and f(1)=3.\n",
        "    \"\"\"\n",
        "    if n == 0:\n",
        "        return 1\n",
        "    elif n == 1:\n",
        "        return 3\n",
        "\n",
        "    f_prev2 = 1   # f(0)\n",
        "    f_prev1 = 3   # f(1)\n",
        "\n",
        "    for i in range(2, n + 1):\n",
        "        f_curr = 7 * f_prev1 - 10 * f_prev2\n",
        "        f_prev2, f_prev1 = f_prev1, f_curr\n",
        "\n",
        "    return f_curr\n",
        "\n",
        "# Example:\n",
        "for i in range(10):\n",
        "    print(f\"f({i}) = {f_dp(i)}\")\n"
      ],
      "metadata": {
        "id": "LWx16hfiS1YY",
        "outputId": "e3ae5d25-f86b-4e42-8ebb-2b5f33b657cc",
        "colab": {
          "base_uri": "https://localhost:8080/"
        }
      },
      "execution_count": 3,
      "outputs": [
        {
          "output_type": "stream",
          "name": "stdout",
          "text": [
            "f(0) = 1\n",
            "f(1) = 3\n",
            "f(2) = 11\n",
            "f(3) = 47\n",
            "f(4) = 219\n",
            "f(5) = 1063\n",
            "f(6) = 5251\n",
            "f(7) = 26127\n",
            "f(8) = 130379\n",
            "f(9) = 651383\n"
          ]
        }
      ]
    },
    {
      "cell_type": "markdown",
      "source": [
        "### Explanation of Dynamic Programming\n",
        "\n",
        "In this method, we build up the solution from the base values by using a loop.\n",
        "We first set f(0) = 1 and f(1) = 3, and then calculate the next values one by one using the recurrence formula.\n",
        "Each time, we only keep track of the last two computed values, so it uses very little memory.\n",
        "\n",
        "This approach is simple, avoids recursion, and runs in linear time (O(n)).\n",
        "It’s also very practical for medium to large values of n like f(1000), because it doesn’t repeat work and doesn’t risk hitting Python’s recursion limit."
      ],
      "metadata": {
        "id": "GYouYUFfT-x_"
      }
    },
    {
      "cell_type": "code",
      "source": [
        "### Using Dyanamic Programming with memoization\n",
        "\n",
        "from functools import lru_cache\n",
        "\n",
        "@lru_cache(maxsize=None)\n",
        "def f_memo(n):\n",
        "    \"\"\"\n",
        "    Dynamic Programming using Memoization\n",
        "    f(n) = 7f(n-1) - 10f(n-2)\n",
        "    with f(0)=1 and f(1)=3\n",
        "    \"\"\"\n",
        "    if n == 0:\n",
        "        return 1\n",
        "    elif n == 1:\n",
        "        return 3\n",
        "    else:\n",
        "        return 7 * f_memo(n - 1) - 10 * f_memo(n - 2)\n",
        "\n",
        "# Example:\n",
        "for i in range(10):\n",
        "    print(f\"f({i}) = {f_memo(i)}\")\n"
      ],
      "metadata": {
        "id": "7bC6fWApTGS0",
        "outputId": "bcec2541-7f6d-49ab-c703-fa7394e06973",
        "colab": {
          "base_uri": "https://localhost:8080/"
        }
      },
      "execution_count": 6,
      "outputs": [
        {
          "output_type": "stream",
          "name": "stdout",
          "text": [
            "f(0) = 1\n",
            "f(1) = 3\n",
            "f(2) = 11\n",
            "f(3) = 47\n",
            "f(4) = 219\n",
            "f(5) = 1063\n",
            "f(6) = 5251\n",
            "f(7) = 26127\n",
            "f(8) = 130379\n",
            "f(9) = 651383\n"
          ]
        }
      ]
    },
    {
      "cell_type": "markdown",
      "source": [
        "### Explaination for Dynamic Programming with memoization\n",
        "\n",
        "\n",
        "This method uses recursion along with a memory (cache) system.\n",
        "When f(n) is called, the function checks whether that value has already been calculated before.\n",
        "If yes, it simply returns the stored value instead of recalculating it.\n",
        "If not, it calculates it once, stores it, and then reuses it later when needed.\n",
        "\n",
        "This approach is efficient because it saves time by avoiding repeated calculations.\n",
        "However, it still uses recursion, so if n is very large (close to 1000), it may get close to Python’s recursion limit unless we increase it.\n",
        "For medium-size n (like 100, 200, etc.), it works perfectly and is easier to understand compared to the iterative method."
      ],
      "metadata": {
        "id": "IQX7qnE7UF1b"
      }
    },
    {
      "cell_type": "markdown",
      "source": [
        "### 4. Comparison and Discussion  \n",
        "\n",
        "After completing all three methods — **Analytic (Mathematical)**, **Dynamic Programming (Iterative)**, and **Dynamic Programming with Memoization (Recursive)** — we can compare how they perform and what makes each one unique.  \n",
        "\n",
        "---\n",
        "\n",
        "**1. Accuracy and Output:**  \n",
        "All three methods produce exactly the same results for every value of *n*. Whether we calculate *f(0)*, *f(1)*, or *f(1000)*, the outputs are identical because they are all based on the same recurrence relation and base conditions.  \n",
        "\n",
        "---\n",
        "\n",
        "**2. Speed and Efficiency:**  \n",
        "- **Analytic Method:**  \n",
        "  This is the fastest approach. It uses a direct mathematical formula, so even for very large values like *n = 1000*, it finishes almost instantly. The reason is that it only performs a few exponentiations and arithmetic operations.  \n",
        "\n",
        "- **Dynamic Programming (Iterative):**  \n",
        "  This method is slightly slower because it loops through all values from 0 up to *n*, calculating each term one by one. However, it is still very efficient since it uses only a few simple operations per iteration and constant space.  \n",
        "\n",
        "- **Dynamic Programming with Memoization (Recursive):**  \n",
        "  This approach is the slowest for large *n*, mainly due to recursion overhead and function call stacking. While memoization avoids repeated calculations, the recursive structure still makes it less efficient for very large inputs.  \n",
        "\n",
        "---\n",
        "\n",
        "**3. Memory Usage:**  \n",
        "- **Analytic Method:**  \n",
        "  Uses almost no extra memory. Only stores a few numbers temporarily while computing powers.  \n",
        "\n",
        "- **Iterative DP Method:**  \n",
        "  Uses constant memory because it only keeps track of the last two values (f(n−1) and f(n−2)).  \n",
        "\n",
        "- **Memoization Method:**  \n",
        "  Uses more memory since every computed value is stored in the cache. This helps in speed for smaller inputs but can consume more space for large *n*.  \n",
        "\n",
        "---\n",
        "\n",
        "**4. Ease of Implementation:**  \n",
        "- The **Analytic Method** requires solving the recurrence mathematically, which takes more understanding but is simple to code once derived.  \n",
        "- The **Iterative DP Method** is straightforward to write and understand, making it ideal for beginners.  \n",
        "- The **Memoization Method** is easy conceptually but can be tricky when dealing with large *n* due to recursion limits.  \n",
        "\n",
        "---\n",
        "\n",
        "**5. Large Input Performance (n = 1000):**  \n",
        "- **Analytic:** Instant and exact.  \n",
        "- **Iterative DP:** Slightly slower but still completes quickly.  \n",
        "- **Memoization:** Works, but close to Python’s recursion depth limit and slightly less efficient.  "
      ],
      "metadata": {
        "id": "cGFbpzcJVAr5"
      }
    }
  ]
}