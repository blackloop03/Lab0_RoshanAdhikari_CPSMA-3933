{
  "nbformat": 4,
  "nbformat_minor": 0,
  "metadata": {
    "colab": {
      "provenance": [],
      "include_colab_link": true
    },
    "kernelspec": {
      "name": "python3",
      "display_name": "Python 3"
    },
    "language_info": {
      "name": "python"
    }
  },
  "cells": [
    {
      "cell_type": "markdown",
      "metadata": {
        "id": "view-in-github",
        "colab_type": "text"
      },
      "source": [
        "<a href=\"https://colab.research.google.com/github/blackloop03/Lab0_RoshanAdhikari_CPSMA-3933/blob/main/Project_Assignments/LPAssignment.ipynb\" target=\"_parent\"><img src=\"https://colab.research.google.com/assets/colab-badge.svg\" alt=\"Open In Colab\"/></a>"
      ]
    },
    {
      "cell_type": "markdown",
      "source": [
        "# Linear Programming Assignment"
      ],
      "metadata": {
        "id": "31GxmqsFEuzW"
      }
    },
    {
      "cell_type": "markdown",
      "source": [
        "## Redo a WeBWorK Question Using Python"
      ],
      "metadata": {
        "id": "xWsxg3k-EzBs"
      }
    },
    {
      "cell_type": "markdown",
      "source": [
        "Consider WW Set 03 Problem 3.  Using python, do the following:\n",
        "1. Copy your problem here.\n",
        "1. Find corner points.  \n",
        "2. Graph feasible set.\n",
        "3. Find the corner that maximizes the objective function $P = 3x+2y$.\n",
        "4. Introduce slack variables, find the corner points again.\n",
        "5. Solve using a built-in Linear Programming Solver.  Compare your answers."
      ],
      "metadata": {
        "id": "eLQofNfAGgoS"
      }
    },
    {
      "cell_type": "markdown",
      "source": [
        "#1.\n",
        "Given the system of inequalities below, determine the shape of the feasible region and find the vertices of the feasible region. Give the shape as \"triangle\", \"quadrilateral\", or \"unbounded\". Report your vertices starting with the one which has the smallest x\n",
        "-value. If more than one vertex has the same, smallest x\n",
        "-value, start with the one that has the smallest y\n",
        "-value. Proceed clockwise from the first vertex. Leave any unnecessary answer spaces blank.\n",
        "\n",
        "x+y≥7\n",
        "\n",
        "5x+y≤1\n",
        "\n",
        "3x≥0y≥0"
      ],
      "metadata": {
        "id": "Bzj_GAEsgyoN"
      }
    },
    {
      "cell_type": "markdown",
      "source": [
        "#Finding Corner points\n",
        "\n",
        "\n",
        "We find where each boundary line intersects.\n",
        "Boundary lines:\n",
        "\n",
        "x + y = 7\n",
        "\n",
        "5x + y = 13\n",
        "\n",
        "x = 0\n",
        "\n",
        "y = 0"
      ],
      "metadata": {
        "id": "KbiJmq4Lg-b9"
      }
    },
    {
      "cell_type": "code",
      "source": [
        "import sympy as sp\n",
        "\n",
        "x, y = sp.symbols('x y')\n",
        "\n",
        "# Define the lines\n",
        "eq1 = sp.Eq(x + y, 7)\n",
        "eq2 = sp.Eq(5*x + y, 13)\n",
        "eq3 = sp.Eq(x, 0)\n",
        "eq4 = sp.Eq(y, 0)\n",
        "\n",
        "# Find intersections\n",
        "points = []\n",
        "points.append(sp.solve((eq1, eq3), (x, y)))  # x=0 & x+y=7\n",
        "points.append(sp.solve((eq2, eq3), (x, y)))  # x=0 & 5x+y=13\n",
        "points.append(sp.solve((eq1, eq2), (x, y)))  # x+y=7 & 5x+y=13\n",
        "\n",
        "points\n"
      ],
      "metadata": {
        "colab": {
          "base_uri": "https://localhost:8080/"
        },
        "id": "8wa3AAEkgg68",
        "outputId": "18d04af6-d281-407f-9401-3eeed99cacca"
      },
      "execution_count": 1,
      "outputs": [
        {
          "output_type": "execute_result",
          "data": {
            "text/plain": [
              "[{x: 0, y: 7}, {x: 0, y: 13}, {x: 3/2, y: 11/2}]"
            ]
          },
          "metadata": {},
          "execution_count": 1
        }
      ]
    },
    {
      "cell_type": "markdown",
      "source": [
        "#Graph the Feasible Region\n"
      ],
      "metadata": {
        "id": "BKJZD5wojmTQ"
      }
    },
    {
      "cell_type": "code",
      "source": [
        "import numpy as np\n",
        "import matplotlib.pyplot as plt\n",
        "\n",
        "x_vals = np.linspace(0, 4, 200)\n",
        "y1 = 7 - x_vals       # from x + y = 7\n",
        "y2 = 13 - 5*x_vals    # from 5x + y = 13\n",
        "\n",
        "plt.plot(x_vals, y1, label='x + y = 7')\n",
        "plt.plot(x_vals, y2, label='5x + y = 13')\n",
        "\n",
        "# Fill feasible region\n",
        "plt.fill_between(x_vals, y1, y2, where=(y2>=y1)&(y2>=0), color='lightgreen', alpha=0.4)\n",
        "\n",
        "# Corner points\n",
        "points = np.array([[0,7],[0,13],[1.5,5.5]])\n",
        "plt.scatter(points[:,0], points[:,1], color='red')\n",
        "for (xv, yv) in points:\n",
        "    plt.text(xv+0.05, yv, f\"({xv},{yv})\")\n",
        "\n",
        "plt.xlim(0,4)\n",
        "plt.ylim(0,14)\n",
        "plt.xlabel('x')\n",
        "plt.ylabel('y')\n",
        "plt.title('Feasible Region for WW Set 03 Problem 3')\n",
        "plt.legend()\n",
        "plt.grid(True)\n",
        "plt.show()\n"
      ],
      "metadata": {
        "colab": {
          "base_uri": "https://localhost:8080/",
          "height": 472
        },
        "id": "PrMfQzOmjpIz",
        "outputId": "eaefe3f8-44d8-4101-dbe7-ac4e3fc53828"
      },
      "execution_count": 2,
      "outputs": [
        {
          "output_type": "display_data",
          "data": {
            "text/plain": [
              "<Figure size 640x480 with 1 Axes>"
            ],
            "image/png": "[encoded data removed]"
          },
          "metadata": {}
        }
      ]
    },
    {
      "cell_type": "markdown",
      "source": [
        "#Find Corner that Maximizes\n",
        "P=3x+2y\n"
      ],
      "metadata": {
        "id": "dEPTjClTkIUF"
      }
    },
    {
      "cell_type": "code",
      "source": [
        "points = [(0,7),(0,13),(1.5,5.5)]\n",
        "\n",
        "def P(x, y):\n",
        "    return 3*x + 2*y\n",
        "\n",
        "for pt in points:\n",
        "    print(pt, \"=> P =\", P(pt[0], pt[1]))\n"
      ],
      "metadata": {
        "colab": {
          "base_uri": "https://localhost:8080/"
        },
        "id": "1h0KSiSUke2g",
        "outputId": "a9260d9c-077b-4307-f9ef-bd0c5dddbf0a"
      },
      "execution_count": 3,
      "outputs": [
        {
          "output_type": "stream",
          "name": "stdout",
          "text": [
            "(0, 7) => P = 14\n",
            "(0, 13) => P = 26\n",
            "(1.5, 5.5) => P = 15.5\n"
          ]
        }
      ]
    },
    {
      "cell_type": "markdown",
      "source": [
        "#Turn inequalities into equalities:\n"
      ],
      "metadata": {
        "id": "NhvmB0zYlOZa"
      }
    },
    {
      "cell_type": "code",
      "source": [
        "# Slack variables added conceptually:\n",
        "# x + y - s1 = 7\n",
        "# 5x + y + s2 = 13\n",
        "# s1, s2 >= 0\n"
      ],
      "metadata": {
        "id": "AbFm9dAklqm6"
      },
      "execution_count": 4,
      "outputs": []
    },
    {
      "cell_type": "markdown",
      "source": [
        "#Solve Using a Built-in Linear Programming Solver\n"
      ],
      "metadata": {
        "id": "noOS-o8Ql5bC"
      }
    },
    {
      "cell_type": "code",
      "source": [
        "from scipy.optimize import linprog\n",
        "\n",
        "# Objective: Maximize 3x + 2y → minimize -3x - 2y\n",
        "c = [-3, -2]\n",
        "\n",
        "# Constraints\n",
        "A = [\n",
        "    [-1, -1],   # x + y >= 7 → -x - y <= -7\n",
        "    [5, 1]      # 5x + y <= 13\n",
        "]\n",
        "b = [-7, 13]\n",
        "\n",
        "# Bounds for x, y\n",
        "bounds = [(0, None), (0, None)]\n",
        "\n",
        "res = linprog(c, A_ub=A, b_ub=b, bounds=bounds)\n",
        "\n",
        "print(\"Optimal x, y:\", res.x)\n",
        "print(\"Maximum P:\", -res.fun)\n"
      ],
      "metadata": {
        "colab": {
          "base_uri": "https://localhost:8080/"
        },
        "id": "r2EyjXCFl7kz",
        "outputId": "7d3d1dce-c1b9-4fa3-88fa-40cf62d474b0"
      },
      "execution_count": 5,
      "outputs": [
        {
          "output_type": "stream",
          "name": "stdout",
          "text": [
            "Optimal x, y: [ 0. 13.]\n",
            "Maximum P: 26.0\n"
          ]
        }
      ]
    },
    {
      "cell_type": "markdown",
      "source": [
        "## Redo a WeBWorK Question Using Python"
      ],
      "metadata": {
        "id": "OwGWpGToIx-L"
      }
    },
    {
      "cell_type": "markdown",
      "source": [
        "Consider WW Set 04 Problem 6.  Using python, do the following:\n",
        "1. Write the equations that describe the problem completely using $\\LaTeX$ encoding.   \n",
        "1. Find corner points.  \n",
        "2. Graph feasible set.\n",
        "3. Find the corner that maximizes the objective function.\n",
        "4. Introduce slack variables, find the corner points again.\n",
        "5. Solve using a built-in Linear Programming Solver.  Compare your answers."
      ],
      "metadata": {
        "id": "H7uUoaW6Ix-O"
      }
    },
    {
      "cell_type": "markdown",
      "source": [
        "Here is an inline equation: $P = 288x + 180y$.\n",
        "\n",
        "And here is a block equation:\n",
        "$$\n",
        "\\begin{aligned}\n",
        "\\text{Maximize } \\quad & P = 288x + 180y \\\\\n",
        "\\text{subject to } \\quad\n",
        "& 20x + 10y \\le 630 \\quad \\text{(hours)} \\\\\n",
        "& 78x + 65y \\le 3003 \\quad \\text{(material)} \\\\\n",
        "& x \\ge 0, \\; y \\ge 0\n",
        "\\end{aligned}\n",
        "$$\n",
        "\n"
      ],
      "metadata": {
        "id": "ilUnLoO0ohVK"
      }
    },
    {
      "cell_type": "markdown",
      "source": [
        "From the constraints:\n",
        "\n",
        "$$\n",
        "\\begin{cases}\n",
        "2x + y \\le 63,\\\\\n",
        "78x + 65y \\le 3003,\\\\\n",
        "x \\ge 0,\\\\\n",
        "y \\ge 0\n",
        "\\end{cases}\n",
        "$$\n",
        "\n",
        "The first–quadrant intersections that satisfy all inequalities are:\n",
        "\n",
        "$$\n",
        "(0,0), \\quad\n",
        "(0,46.2)\\ \\text{(material line at } x = 0), \\quad\n",
        "(21,21)\\ \\text{(intersection of } 2x + y = 63\\ \\text{and } 78x + 65y = 3003), \\quad\n",
        "(31.5,0)\\ \\text{(hours line at } y = 0).\n",
        "$$\n",
        "\n",
        "If we order the vertices by increasing \\(x\\)-value and proceed clockwise, the feasible region corners are:\n",
        "\n",
        "$$\n",
        "(0,0)\\ \\rightarrow\\ (0,46.2)\\ \\rightarrow\\ (21,21)\\ \\rightarrow\\ (31.5,0).\n",
        "$$\n"
      ],
      "metadata": {
        "id": "9tnmoGNho_dp"
      }
    },
    {
      "cell_type": "code",
      "source": [
        "import sympy as sp\n",
        "\n",
        "# Define variables\n",
        "x, y = sp.symbols('x y', real=True)\n",
        "\n",
        "# Define constraint equalities\n",
        "eq1 = sp.Eq(2*x + y, 63)       # hours\n",
        "eq2 = sp.Eq(78*x + 65*y, 3003) # material\n",
        "eq3 = sp.Eq(x, 0)               # x = 0 (axis)\n",
        "eq4 = sp.Eq(y, 0)               # y = 0 (axis)\n",
        "\n",
        "# List all equations\n",
        "eqs = [eq1, eq2, eq3, eq4]\n",
        "\n",
        "# Generate all pairwise intersections\n",
        "points = []\n",
        "for (a,b) in [(eqs[i], eqs[j]) for i in range(len(eqs)) for j in range(i+1, len(eqs))]:\n",
        "    sol = sp.solve((a,b), (x,y))\n",
        "    if sol:\n",
        "        points.append(sol)\n",
        "\n",
        "# Convert to numeric and check feasibility\n",
        "feasible_points = []\n",
        "for sol in points:\n",
        "    xv, yv = float(sol[x]), float(sol[y])\n",
        "    if xv >= 0 and yv >= 0 and (2*xv + yv <= 63) and (78*xv + 65*yv <= 3003):\n",
        "        feasible_points.append((round(xv,3), round(yv,3)))\n",
        "\n",
        "# Remove duplicates\n",
        "feasible_points = list(set(feasible_points))\n",
        "feasible_points\n"
      ],
      "metadata": {
        "id": "mKfm4CHVIx-Q",
        "colab": {
          "base_uri": "https://localhost:8080/"
        },
        "outputId": "b5dd8969-0211-4a34-8547-c6963e3383c7"
      },
      "execution_count": 7,
      "outputs": [
        {
          "output_type": "execute_result",
          "data": {
            "text/plain": [
              "[(31.5, 0.0), (0.0, 46.2), (21.0, 21.0), (0.0, 0.0)]"
            ]
          },
          "metadata": {},
          "execution_count": 7
        }
      ]
    },
    {
      "cell_type": "code",
      "execution_count": 8,
      "metadata": {
        "id": "w8ip_AnaIx-R",
        "colab": {
          "base_uri": "https://localhost:8080/",
          "height": 564
        },
        "outputId": "94bbd3e4-567a-406a-cc7c-79376760189d"
      },
      "outputs": [
        {
          "output_type": "display_data",
          "data": {
            "text/plain": [
              "<Figure size 700x600 with 1 Axes>"
            ],
            "image/png": "[encoded data removed]"
          },
          "metadata": {}
        }
      ],
      "source": [
        "import numpy as np\n",
        "import matplotlib.pyplot as plt\n",
        "\n",
        "# Define constraint functions\n",
        "x = np.linspace(0, 40, 400)\n",
        "y1 = 63 - 2*x               # from 2x + y = 63  (hours)\n",
        "y2 = (3003 - 78*x) / 65     # from 78x + 65y = 3003  (material)\n",
        "\n",
        "# Plot the lines\n",
        "plt.figure(figsize=(7,6))\n",
        "plt.plot(x, y1, label=r'$2x + y = 63$', color='orange')\n",
        "plt.plot(x, y2, label=r'$78x + 65y = 3003$', color='skyblue')\n",
        "\n",
        "# Fill feasible region\n",
        "# The feasible region satisfies: y <= y1, y <= y2, y >= 0, x >= 0\n",
        "y_feasible = np.minimum(y1, y2)\n",
        "plt.fill_between(x, 0, y_feasible, where=(y_feasible>=0), color='lightgreen', alpha=0.5, label='Feasible Region')\n",
        "\n",
        "# Corner points\n",
        "corners = np.array([[0,0], [0,46.2], [21,21], [31.5,0]])\n",
        "plt.scatter(corners[:,0], corners[:,1], color='red')\n",
        "\n",
        "# Annotate points\n",
        "for (xv, yv) in corners:\n",
        "    plt.text(xv+0.5, yv+0.5, f\"({xv},{yv})\", fontsize=9)\n",
        "\n",
        "# Axes limits\n",
        "plt.xlim(0, 40)\n",
        "plt.ylim(0, 70)\n",
        "\n",
        "# Labels and title\n",
        "plt.xlabel(\"x (Deluxe boards)\")\n",
        "plt.ylabel(\"y (Standard boards)\")\n",
        "plt.title(\"Feasible Region for WW Set 04 Problem 6\")\n",
        "plt.legend()\n",
        "plt.grid(True)\n",
        "plt.show()\n"
      ]
    },
    {
      "cell_type": "markdown",
      "source": [
        "#Introducing Slack Variables\n"
      ],
      "metadata": {
        "id": "TocNeamprEv7"
      }
    },
    {
      "cell_type": "code",
      "source": [
        "import pandas as pd\n",
        "\n",
        "points = [(0,0),(0,46.2),(21,21),(31.5,0)]\n",
        "rows = []\n",
        "for x,y in points:\n",
        "    s1 = 63 - (2*x + y)\n",
        "    s2 = 3003 - (78*x + 65*y)\n",
        "    rows.append({\"x\":x, \"y\":y, \"s1\":round(s1,2), \"s2\":round(s2,2)})\n",
        "pd.DataFrame(rows)\n"
      ],
      "metadata": {
        "colab": {
          "base_uri": "https://localhost:8080/",
          "height": 175
        },
        "id": "0xl5G72EqgNF",
        "outputId": "3dcdf66c-8050-4203-a11e-37c74acb50e4"
      },
      "execution_count": 9,
      "outputs": [
        {
          "output_type": "execute_result",
          "data": {
            "text/plain": [
              "      x     y    s1      s2\n",
              "0   0.0   0.0  63.0  3003.0\n",
              "1   0.0  46.2  16.8     0.0\n",
              "2  21.0  21.0   0.0     0.0\n",
              "3  31.5   0.0   0.0   546.0"
            ],
            "text/html": [
              "\n",
              "  <div id=\"df-5452b8fc-bdfe-4ab2-bba8-e73bac3f873f\" class=\"colab-df-container\">\n",
              "    <div>\n",
              "<style scoped>\n",
              "    .dataframe tbody tr th:only-of-type {\n",
              "        vertical-align: middle;\n",
              "    }\n",
              "\n",
              "    .dataframe tbody tr th {\n",
              "        vertical-align: top;\n",
              "    }\n",
              "\n",
              "    .dataframe thead th {\n",
              "        text-align: right;\n",
              "    }\n",
              "</style>\n",
              "<table border=\"1\" class=\"dataframe\">\n",
              "  <thead>\n",
              "    <tr style=\"text-align: right;\">\n",
              "      <th></th>\n",
              "      <th>x</th>\n",
              "      <th>y</th>\n",
              "      <th>s1</th>\n",
              "      <th>s2</th>\n",
              "    </tr>\n",
              "  </thead>\n",
              "  <tbody>\n",
              "    <tr>\n",
              "      <th>0</th>\n",
              "      <td>0.0</td>\n",
              "      <td>0.0</td>\n",
              "      <td>63.0</td>\n",
              "      <td>3003.0</td>\n",
              "    </tr>\n",
              "    <tr>\n",
              "      <th>1</th>\n",
              "      <td>0.0</td>\n",
              "      <td>46.2</td>\n",
              "      <td>16.8</td>\n",
              "      <td>0.0</td>\n",
              "    </tr>\n",
              "    <tr>\n",
              "      <th>2</th>\n",
              "      <td>21.0</td>\n",
              "      <td>21.0</td>\n",
              "      <td>0.0</td>\n",
              "      <td>0.0</td>\n",
              "    </tr>\n",
              "    <tr>\n",
              "      <th>3</th>\n",
              "      <td>31.5</td>\n",
              "      <td>0.0</td>\n",
              "      <td>0.0</td>\n",
              "      <td>546.0</td>\n",
              "    </tr>\n",
              "  </tbody>\n",
              "</table>\n",
              "</div>\n",
              "    <div class=\"colab-df-buttons\">\n",
              "\n",
              "  <div class=\"colab-df-container\">\n",
              "    <button class=\"colab-df-convert\" onclick=\"convertToInteractive('df-5452b8fc-bdfe-4ab2-bba8-e73bac3f873f')\"\n",
              "            title=\"Convert this dataframe to an interactive table.\"\n",
              "            style=\"display:none;\">\n",
              "\n",
              "  <svg xmlns=\"http://www.w3.org/2000/svg\" height=\"24px\" viewBox=\"0 -960 960 960\">\n",
              "    <path d=\"M120-120v-720h720v720H120Zm60-500h600v-160H180v160Zm220 220h160v-160H400v160Zm0 220h160v-160H400v160ZM180-400h160v-160H180v160Zm440 0h160v-160H620v160ZM180-180h160v-160H180v160Zm440 0h160v-160H620v160Z\"/>\n",
              "  </svg>\n",
              "    </button>\n",
              "\n",
              "  <style>\n",
              "    .colab-df-container {\n",
              "      display:flex;\n",
              "      gap: 12px;\n",
              "    }\n",
              "\n",
              "    .colab-df-convert {\n",
              "      background-color: #E8F0FE;\n",
              "      border: none;\n",
              "      border-radius: 50%;\n",
              "      cursor: pointer;\n",
              "      display: none;\n",
              "      fill: #1967D2;\n",
              "      height: 32px;\n",
              "      padding: 0 0 0 0;\n",
              "      width: 32px;\n",
              "    }\n",
              "\n",
              "    .colab-df-convert:hover {\n",
              "      background-color: #E2EBFA;\n",
              "      box-shadow: 0px 1px 2px rgba(60, 64, 67, 0.3), 0px 1px 3px 1px rgba(60, 64, 67, 0.15);\n",
              "      fill: #174EA6;\n",
              "    }\n",
              "\n",
              "    .colab-df-buttons div {\n",
              "      margin-bottom: 4px;\n",
              "    }\n",
              "\n",
              "    [theme=dark] .colab-df-convert {\n",
              "      background-color: #3B4455;\n",
              "      fill: #D2E3FC;\n",
              "    }\n",
              "\n",
              "    [theme=dark] .colab-df-convert:hover {\n",
              "      background-color: #434B5C;\n",
              "      box-shadow: 0px 1px 3px 1px rgba(0, 0, 0, 0.15);\n",
              "      filter: drop-shadow(0px 1px 2px rgba(0, 0, 0, 0.3));\n",
              "      fill: #FFFFFF;\n",
              "    }\n",
              "  </style>\n",
              "\n",
              "    <script>\n",
              "      const buttonEl =\n",
              "        document.querySelector('#df-5452b8fc-bdfe-4ab2-bba8-e73bac3f873f button.colab-df-convert');\n",
              "      buttonEl.style.display =\n",
              "        google.colab.kernel.accessAllowed ? 'block' : 'none';\n",
              "\n",
              "      async function convertToInteractive(key) {\n",
              "        const element = document.querySelector('#df-5452b8fc-bdfe-4ab2-bba8-e73bac3f873f');\n",
              "        const dataTable =\n",
              "          await google.colab.kernel.invokeFunction('convertToInteractive',\n",
              "                                                    [key], {});\n",
              "        if (!dataTable) return;\n",
              "\n",
              "        const docLinkHtml = 'Like what you see? Visit the ' +\n",
              "          '<a target=\"_blank\" href=https://colab.research.google.com/notebooks/data_table.ipynb>data table notebook</a>'\n",
              "          + ' to learn more about interactive tables.';\n",
              "        element.innerHTML = '';\n",
              "        dataTable['output_type'] = 'display_data';\n",
              "        await google.colab.output.renderOutput(dataTable, element);\n",
              "        const docLink = document.createElement('div');\n",
              "        docLink.innerHTML = docLinkHtml;\n",
              "        element.appendChild(docLink);\n",
              "      }\n",
              "    </script>\n",
              "  </div>\n",
              "\n",
              "\n",
              "    <div id=\"df-f6d0146f-7e72-4b26-96ae-bea2685ba542\">\n",
              "      <button class=\"colab-df-quickchart\" onclick=\"quickchart('df-f6d0146f-7e72-4b26-96ae-bea2685ba542')\"\n",
              "                title=\"Suggest charts\"\n",
              "                style=\"display:none;\">\n",
              "\n",
              "<svg xmlns=\"http://www.w3.org/2000/svg\" height=\"24px\"viewBox=\"0 0 24 24\"\n",
              "     width=\"24px\">\n",
              "    <g>\n",
              "        <path d=\"M19 3H5c-1.1 0-2 .9-2 2v14c0 1.1.9 2 2 2h14c1.1 0 2-.9 2-2V5c0-1.1-.9-2-2-2zM9 17H7v-7h2v7zm4 0h-2V7h2v10zm4 0h-2v-4h2v4z\"/>\n",
              "    </g>\n",
              "</svg>\n",
              "      </button>\n",
              "\n",
              "<style>\n",
              "  .colab-df-quickchart {\n",
              "      --bg-color: #E8F0FE;\n",
              "      --fill-color: #1967D2;\n",
              "      --hover-bg-color: #E2EBFA;\n",
              "      --hover-fill-color: #174EA6;\n",
              "      --disabled-fill-color: #AAA;\n",
              "      --disabled-bg-color: #DDD;\n",
              "  }\n",
              "\n",
              "  [theme=dark] .colab-df-quickchart {\n",
              "      --bg-color: #3B4455;\n",
              "      --fill-color: #D2E3FC;\n",
              "      --hover-bg-color: #434B5C;\n",
              "      --hover-fill-color: #FFFFFF;\n",
              "      --disabled-bg-color: #3B4455;\n",
              "      --disabled-fill-color: #666;\n",
              "  }\n",
              "\n",
              "  .colab-df-quickchart {\n",
              "    background-color: var(--bg-color);\n",
              "    border: none;\n",
              "    border-radius: 50%;\n",
              "    cursor: pointer;\n",
              "    display: none;\n",
              "    fill: var(--fill-color);\n",
              "    height: 32px;\n",
              "    padding: 0;\n",
              "    width: 32px;\n",
              "  }\n",
              "\n",
              "  .colab-df-quickchart:hover {\n",
              "    background-color: var(--hover-bg-color);\n",
              "    box-shadow: 0 1px 2px rgba(60, 64, 67, 0.3), 0 1px 3px 1px rgba(60, 64, 67, 0.15);\n",
              "    fill: var(--button-hover-fill-color);\n",
              "  }\n",
              "\n",
              "  .colab-df-quickchart-complete:disabled,\n",
              "  .colab-df-quickchart-complete:disabled:hover {\n",
              "    background-color: var(--disabled-bg-color);\n",
              "    fill: var(--disabled-fill-color);\n",
              "    box-shadow: none;\n",
              "  }\n",
              "\n",
              "  .colab-df-spinner {\n",
              "    border: 2px solid var(--fill-color);\n",
              "    border-color: transparent;\n",
              "    border-bottom-color: var(--fill-color);\n",
              "    animation:\n",
              "      spin 1s steps(1) infinite;\n",
              "  }\n",
              "\n",
              "  @keyframes spin {\n",
              "    0% {\n",
              "      border-color: transparent;\n",
              "      border-bottom-color: var(--fill-color);\n",
              "      border-left-color: var(--fill-color);\n",
              "    }\n",
              "    20% {\n",
              "      border-color: transparent;\n",
              "      border-left-color: var(--fill-color);\n",
              "      border-top-color: var(--fill-color);\n",
              "    }\n",
              "    30% {\n",
              "      border-color: transparent;\n",
              "      border-left-color: var(--fill-color);\n",
              "      border-top-color: var(--fill-color);\n",
              "      border-right-color: var(--fill-color);\n",
              "    }\n",
              "    40% {\n",
              "      border-color: transparent;\n",
              "      border-right-color: var(--fill-color);\n",
              "      border-top-color: var(--fill-color);\n",
              "    }\n",
              "    60% {\n",
              "      border-color: transparent;\n",
              "      border-right-color: var(--fill-color);\n",
              "    }\n",
              "    80% {\n",
              "      border-color: transparent;\n",
              "      border-right-color: var(--fill-color);\n",
              "      border-bottom-color: var(--fill-color);\n",
              "    }\n",
              "    90% {\n",
              "      border-color: transparent;\n",
              "      border-bottom-color: var(--fill-color);\n",
              "    }\n",
              "  }\n",
              "</style>\n",
              "\n",
              "      <script>\n",
              "        async function quickchart(key) {\n",
              "          const quickchartButtonEl =\n",
              "            document.querySelector('#' + key + ' button');\n",
              "          quickchartButtonEl.disabled = true;  // To prevent multiple clicks.\n",
              "          quickchartButtonEl.classList.add('colab-df-spinner');\n",
              "          try {\n",
              "            const charts = await google.colab.kernel.invokeFunction(\n",
              "                'suggestCharts', [key], {});\n",
              "          } catch (error) {\n",
              "            console.error('Error during call to suggestCharts:', error);\n",
              "          }\n",
              "          quickchartButtonEl.classList.remove('colab-df-spinner');\n",
              "          quickchartButtonEl.classList.add('colab-df-quickchart-complete');\n",
              "        }\n",
              "        (() => {\n",
              "          let quickchartButtonEl =\n",
              "            document.querySelector('#df-f6d0146f-7e72-4b26-96ae-bea2685ba542 button');\n",
              "          quickchartButtonEl.style.display =\n",
              "            google.colab.kernel.accessAllowed ? 'block' : 'none';\n",
              "        })();\n",
              "      </script>\n",
              "    </div>\n",
              "\n",
              "    </div>\n",
              "  </div>\n"
            ],
            "application/vnd.google.colaboratory.intrinsic+json": {
              "type": "dataframe",
              "summary": "{\n  \"name\": \"pd\",\n  \"rows\": 4,\n  \"fields\": [\n    {\n      \"column\": \"x\",\n      \"properties\": {\n        \"dtype\": \"number\",\n        \"std\": 15.75,\n        \"min\": 0.0,\n        \"max\": 31.5,\n        \"num_unique_values\": 3,\n        \"samples\": [\n          0.0,\n          21.0,\n          31.5\n        ],\n        \"semantic_type\": \"\",\n        \"description\": \"\"\n      }\n    },\n    {\n      \"column\": \"y\",\n      \"properties\": {\n        \"dtype\": \"number\",\n        \"std\": 21.95814199790137,\n        \"min\": 0.0,\n        \"max\": 46.2,\n        \"num_unique_values\": 3,\n        \"samples\": [\n          0.0,\n          46.2,\n          21.0\n        ],\n        \"semantic_type\": \"\",\n        \"description\": \"\"\n      }\n    },\n    {\n      \"column\": \"s1\",\n      \"properties\": {\n        \"dtype\": \"number\",\n        \"std\": 29.77263844539143,\n        \"min\": 0.0,\n        \"max\": 63.0,\n        \"num_unique_values\": 3,\n        \"samples\": [\n          63.0,\n          16.8,\n          0.0\n        ],\n        \"semantic_type\": \"\",\n        \"description\": \"\"\n      }\n    },\n    {\n      \"column\": \"s2\",\n      \"properties\": {\n        \"dtype\": \"number\",\n        \"std\": 1433.7915643495744,\n        \"min\": 0.0,\n        \"max\": 3003.0,\n        \"num_unique_values\": 3,\n        \"samples\": [\n          3003.0,\n          0.0,\n          546.0\n        ],\n        \"semantic_type\": \"\",\n        \"description\": \"\"\n      }\n    }\n  ]\n}"
            }
          },
          "metadata": {},
          "execution_count": 9
        }
      ]
    },
    {
      "cell_type": "markdown",
      "source": [
        "# Step 5 – Solve using a built-in Linear Programming Solver"
      ],
      "metadata": {
        "id": "_TZp2DdNr8HR"
      }
    },
    {
      "cell_type": "code",
      "source": [
        "\n",
        "\n",
        "import numpy as np\n",
        "import pandas as pd\n",
        "from scipy.optimize import linprog\n",
        "\n",
        "# Objective: Maximize P = 288x + 180y  → minimize -P\n",
        "c = [-288, -180]\n",
        "\n",
        "# Constraints\n",
        "# 20x + 10y <= 630  (production hours)\n",
        "# 78x + 65y <= 3003 (material)\n",
        "A = [\n",
        "    [20, 10],\n",
        "    [78, 65]\n",
        "]\n",
        "b = [630, 3003]\n",
        "\n",
        "# Bounds for x and y\n",
        "bounds = [(0, None), (0, None)]\n",
        "\n",
        "# Solve using linprog\n",
        "res = linprog(c, A_ub=A, b_ub=b, bounds=bounds)\n",
        "\n",
        "# Extract optimal values\n",
        "x_opt, y_opt = res.x\n",
        "P_opt = -res.fun\n",
        "\n",
        "print(\"Optimal solution from solver:\")\n",
        "print(f\"x = {x_opt:.2f}\")\n",
        "print(f\"y = {y_opt:.2f}\")\n",
        "print(f\"Maximum P = {P_opt:.2f}\")\n",
        "\n",
        "# --- Compare with corner points ---\n",
        "corners = [(0,0), (0,46.2), (21,21), (31.5,0)]\n",
        "\n",
        "def P(x, y):\n",
        "    return 288*x + 180*y\n",
        "\n",
        "# Evaluate each corner\n",
        "results = []\n",
        "for (x, y) in corners:\n",
        "    results.append({\"Method\":\"Corner Point\", \"x\":x, \"y\":y, \"P\":P(x, y)})\n",
        "\n",
        "# Add solver result\n",
        "results.append({\"Method\":\"SciPy linprog\", \"x\":x_opt, \"y\":y_opt, \"P\":P_opt})\n",
        "\n",
        "df = pd.DataFrame(results)\n",
        "print(\"\\nComparison of Results:\")\n",
        "print(df.to_string(index=False))\n"
      ],
      "metadata": {
        "id": "J8w3XFMqr8tO",
        "outputId": "5d27eda5-aa1b-4385-99c9-afaf43e346ef",
        "colab": {
          "base_uri": "https://localhost:8080/"
        }
      },
      "execution_count": 10,
      "outputs": [
        {
          "output_type": "stream",
          "name": "stdout",
          "text": [
            "Optimal solution from solver:\n",
            "x = 21.00\n",
            "y = 21.00\n",
            "Maximum P = 9828.00\n",
            "\n",
            "Comparison of Results:\n",
            "       Method    x    y      P\n",
            " Corner Point  0.0  0.0    0.0\n",
            " Corner Point  0.0 46.2 8316.0\n",
            " Corner Point 21.0 21.0 9828.0\n",
            " Corner Point 31.5  0.0 9072.0\n",
            "SciPy linprog 21.0 21.0 9828.0\n"
          ]
        }
      ]
    }
  ]
}