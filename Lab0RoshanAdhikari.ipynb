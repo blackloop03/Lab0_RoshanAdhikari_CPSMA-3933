{
  "nbformat": 4,
  "nbformat_minor": 0,
  "metadata": {
    "colab": {
      "provenance": []
    },
    "kernelspec": {
      "name": "python3",
      "display_name": "Python 3"
    },
    "language_info": {
      "name": "python"
    }
  },
  "cells": [
    {
      "cell_type": "markdown",
      "source": [
        "#LAB 01\n",
        "## **Class:** Operations Research (CPSMA-3933-01)\n",
        "###**Name:** Roshan Adhikari"
      ],
      "metadata": {
        "id": "ueFlgR2XDzvq"
      }
    },
    {
      "cell_type": "markdown",
      "source": [
        "# My Favorite Function: `startswith()`\n",
        "\n",
        "One of my favorite Python string functions is **`startswith()`**.  \n",
        "\n",
        "This function checks whether a string begins with a given substring and returns **True** or **False**.  \n",
        "I like it because it makes the code very clean and readable, instead of having to slice strings or use complicated conditions.\n",
        "\n",
        "### Example:\n",
        "```python\n",
        "filename = \"report.pdf\"\n",
        "\n",
        "print(filename.startswith(\"rep\"))   # True\n",
        "print(filename.startswith(\"data\"))  # False\n"
      ],
      "metadata": {
        "id": "ghklZg1gFheD"
      }
    },
    {
      "cell_type": "markdown",
      "source": [
        "#Defining a function to check if the number is prime or composite"
      ],
      "metadata": {
        "id": "W0XoswEBIYyb"
      }
    },
    {
      "cell_type": "code",
      "source": [
        "# Define a function to check if a number is prime or composite\n",
        "def check_prime(n: int) -> str:\n",
        "\n",
        "    if n <= 1:\n",
        "        return \"Neither (0, 1, or negative)\"\n",
        "    for i in range(2, int(n**0.5) + 1):  # check divisibility up to sqrt(n)\n",
        "        if n % i == 0:\n",
        "            return \"Composite\"\n",
        "    return \"Prime\"\n",
        "\n",
        "# Test the function with some values\n",
        "nums = [0, 1, 2, 3, 4, 5, 16, 17, 19, 20, 23, 25]\n",
        "\n",
        "for num in nums:\n",
        "    print(f\"{num} -> {check_prime(num)}\")\n"
      ],
      "metadata": {
        "colab": {
          "base_uri": "https://localhost:8080/"
        },
        "id": "0_6-9y43GySE",
        "outputId": "c8ad18ea-45df-467e-a913-12891371a5f8"
      },
      "execution_count": 1,
      "outputs": [
        {
          "output_type": "stream",
          "name": "stdout",
          "text": [
            "0 -> Neither (0, 1, or negative)\n",
            "1 -> Neither (0, 1, or negative)\n",
            "2 -> Prime\n",
            "3 -> Prime\n",
            "4 -> Composite\n",
            "5 -> Prime\n",
            "16 -> Composite\n",
            "17 -> Prime\n",
            "19 -> Prime\n",
            "20 -> Composite\n",
            "23 -> Prime\n",
            "25 -> Composite\n"
          ]
        }
      ]
    },
    {
      "cell_type": "markdown",
      "source": [
        "# List with at least 10 values\n",
        "\n",
        "I created my own list of numbers instead of using a random generator.  \n",
        "The values I chose are: **1, 6, 2, 4, 12, 8, 17, 24, 15, 10, 5, 30, 22, 27, 20**.  \n",
        "\n",
        "This is a mix of small, medium, and larger numbers to make the calculations more interesting.  \n",
        "I will compute the **sum**, **minimum**, **maximum**, and the **average** of the values.\n"
      ],
      "metadata": {
        "id": "t_clPaI9HfN6"
      }
    },
    {
      "cell_type": "code",
      "source": [
        "\n",
        "# My own list of numbers\n",
        "numbers = [1, 6, 2, 4, 12, 8, 17, 24, 15, 10, 5, 30, 22, 27, 20]\n",
        "\n",
        "# Compute required values\n",
        "total_sum = sum(numbers)\n",
        "minimum = min(numbers)\n",
        "maximum = max(numbers)\n",
        "average = sum(numbers)/len(numbers)\n",
        "\n",
        "print(\"Numbers:\", numbers)\n",
        "print(\"Sum:\", total_sum)\n",
        "print(\"Min:\", minimum)\n",
        "print(\"Max:\", maximum)\n",
        "print(\"Average:\", round(average, 2))\n"
      ],
      "metadata": {
        "colab": {
          "base_uri": "https://localhost:8080/"
        },
        "id": "FcTyeP7tG8KY",
        "outputId": "aca907f0-725b-49f8-bf7f-8d5b5c41844e"
      },
      "execution_count": 3,
      "outputs": [
        {
          "output_type": "stream",
          "name": "stdout",
          "text": [
            "Numbers: [1, 6, 2, 4, 12, 8, 17, 24, 15, 10, 5, 30, 22, 27, 20]\n",
            "Sum: 203\n",
            "Min: 1\n",
            "Max: 30\n",
            "Average: 13.53\n"
          ]
        }
      ]
    }
  ]
}